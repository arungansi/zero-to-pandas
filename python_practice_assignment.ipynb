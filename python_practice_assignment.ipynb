{
  "nbformat": 4,
  "nbformat_minor": 0,
  "metadata": {
    "kernelspec": {
      "display_name": "Python 3",
      "language": "python",
      "name": "python3"
    },
    "language_info": {
      "codemirror_mode": {
        "name": "ipython",
        "version": 3
      },
      "file_extension": ".py",
      "mimetype": "text/x-python",
      "name": "python",
      "nbconvert_exporter": "python",
      "pygments_lexer": "ipython3",
      "version": "3.6.13"
    },
    "colab": {
      "name": "python-practice-assignment.ipynb",
      "provenance": [],
      "collapsed_sections": [],
      "include_colab_link": true
    }
  },
  "cells": [
    {
      "cell_type": "markdown",
      "metadata": {
        "id": "view-in-github",
        "colab_type": "text"
      },
      "source": [
        "<a href=\"https://colab.research.google.com/github/arungansi/zero-to-pandas/blob/main/python_practice_assignment.ipynb\" target=\"_parent\"><img src=\"https://colab.research.google.com/assets/colab-badge.svg\" alt=\"Open In Colab\"/></a>"
      ]
    },
    {
      "cell_type": "code",
      "metadata": {
        "colab": {
          "base_uri": "https://localhost:8080/"
        },
        "id": "fjtKDRxwE9SE",
        "outputId": "6d2a0a4b-4c56-4d29-d6ef-ed53a2e268da"
      },
      "source": [
        "# Jovian Commit Essentials\n",
        "# Please retain and execute this cell without modifying the contents for `jovian.commit` to work\n",
        "!pip install jovian --upgrade -q\n",
        "import jovian\n",
        "jovian.set_project('python-practice-assignment')\n",
        "jovian.set_colab_id('1YJCv9Z3oWeiVW-WS7gp8dLh3euYBjNJo')"
      ],
      "execution_count": null,
      "outputs": [
        {
          "output_type": "stream",
          "text": [
            "\u001b[?25l\r\u001b[K     |████▊                           | 10kB 17.5MB/s eta 0:00:01\r\u001b[K     |█████████▌                      | 20kB 23.6MB/s eta 0:00:01\r\u001b[K     |██████████████▎                 | 30kB 15.2MB/s eta 0:00:01\r\u001b[K     |███████████████████             | 40kB 11.8MB/s eta 0:00:01\r\u001b[K     |███████████████████████▉        | 51kB 5.4MB/s eta 0:00:01\r\u001b[K     |████████████████████████████▋   | 61kB 5.5MB/s eta 0:00:01\r\u001b[K     |████████████████████████████████| 71kB 3.6MB/s \n",
            "\u001b[?25h  Building wheel for uuid (setup.py) ... \u001b[?25l\u001b[?25hdone\n"
          ],
          "name": "stdout"
        }
      ]
    },
    {
      "cell_type": "markdown",
      "metadata": {
        "id": "NBcPUdAnE9SG"
      },
      "source": [
        "# Assignment 1 - Python Basics Practice\n",
        "\n",
        "*This assignment is a part of the course [\"Data Analysis with Python: Zero to Pandas\"](https://jovian.ml/learn/data-analysis-with-python-zero-to-pandas)*\n",
        "\n",
        "In this assignment, you'll get to practice some of the concepts and skills covered in the following notebooks:\n",
        "\n",
        "1. [First Steps with Python and Jupyter](https://jovian.ml/aakashns/first-steps-with-python)\n",
        "2. [A Quick Tour of Variables and Data Types](https://jovian.ml/aakashns/python-variables-and-data-types)\n",
        "3. [Branching using Conditional Statements and Loops](https://jovian.ml/aakashns/python-branching-and-loops)\n",
        "\n",
        "\n",
        "As you go through this notebook, you will find the symbol **???** in certain places. To complete this assignment, you must replace all the **???** with appropriate values, expressions or statements to ensure that the notebook runs properly end-to-end. \n",
        "\n",
        "**Guidelines**\n",
        "\n",
        "1. Make sure to run all the code cells, otherwise you may get errors like `NameError` for undefined variables.\n",
        "2. Do not change variable names, delete cells or disturb other existing code. It may cause problems during evaluation.\n",
        "3. In some cases, you may need to add some code cells or new statements before or after the line of code containing the **???**. \n",
        "4. Since you'll be using a free online service for code execution, save your work by running `jovian.commit` at regular intervals.\n",
        "5. Questions marked **(Optional)** will not be considered for evaluation, and can be skipped. They are for your learning.\n",
        "6. If you are stuck, you can ask for help on the course forum. Post errors, ask for hints and help others, but **please don't share the full solution answer code** to give others a chance to write the code themselves.\n",
        "7. After submission your code will be tested with some hidden test cases. Make sure to test your code exhaustively to cover all edge cases.\n",
        "\n",
        "\n",
        "Important Links:\n",
        "\n",
        "* Make submissions here: https://jovian.ml/learn/data-analysis-with-python-zero-to-pandas/assignment/assignment-1-python-basics-practice\n",
        "\n",
        "* Get help on the community forum: https://jovian.ml/forum/t/assignment-1-python-practice/7761 . You can get help with errors or ask for hints, but **please don't ask for or share the full working answer code** on the forum.\n"
      ]
    },
    {
      "cell_type": "markdown",
      "metadata": {
        "id": "rg2_vaItE9SH"
      },
      "source": [
        "### How to Run the Code and Save Your Work\n",
        "\n",
        "**Option 1: Running using free online resources (1-click, recommended)**: Click the **Run** button at the top of this page and select **Run on Binder**. You can also select \"Run on Colab\" or \"Run on Kaggle\", but you'll need to create an account on [Google Colab](https://colab.research.google.com) or [Kaggle](https://kaggle.com) to use these platforms.\n",
        "\n",
        "\n",
        "**Option 2: Running on your computer locally**: To run the code on your computer locally, you'll need to set up [Python](https://www.python.org) & [Conda](https://docs.conda.io/projects/conda/en/latest/user-guide/install/), download the notebook and install the required libraries. Click the **Run** button at the top of this page, select the **Run Locally** option, and follow the instructions.\n",
        "\n",
        "**Saving your work**: You can save a snapshot of the assignment to your [Jovian](https://jovian.ai) profile, so that you can access it later and continue your work. Keep saving your work by running `jovian.commit` from time to time."
      ]
    },
    {
      "cell_type": "code",
      "metadata": {
        "id": "qSGsPW62E9SI"
      },
      "source": [
        "# Install the library\n",
        "!pip install jovian --upgrade --quiet"
      ],
      "execution_count": null,
      "outputs": []
    },
    {
      "cell_type": "code",
      "metadata": {
        "id": "74r2IFtNE9SI"
      },
      "source": [
        "# Import it\n",
        "import jovian"
      ],
      "execution_count": null,
      "outputs": []
    },
    {
      "cell_type": "code",
      "metadata": {
        "id": "XKXAnTdCE9SJ"
      },
      "source": [
        "project_name='python-practice-assignment'"
      ],
      "execution_count": null,
      "outputs": []
    },
    {
      "cell_type": "code",
      "metadata": {
        "colab": {
          "base_uri": "https://localhost:8080/",
          "height": 120
        },
        "id": "lcVQZMfbE9SJ",
        "outputId": "eeb20afa-73f2-49c7-cde6-c1442d29af56"
      },
      "source": [
        "# Capture and upload a snapshot\n",
        "jovian.commit(project=project_name, privacy='secret', evironment=None)"
      ],
      "execution_count": null,
      "outputs": [
        {
          "output_type": "stream",
          "text": [
            "[jovian] Detected Colab notebook...\u001b[0m\n",
            "[jovian] Please enter your API key ( from https://jovian.ai/ ):\u001b[0m\n",
            "API KEY: ··········\n",
            "[jovian] Uploading colab notebook to Jovian...\u001b[0m\n",
            "Committed successfully! https://jovian.ai/arun-gansi/python-practice-assignment\n"
          ],
          "name": "stdout"
        },
        {
          "output_type": "execute_result",
          "data": {
            "application/vnd.google.colaboratory.intrinsic+json": {
              "type": "string"
            },
            "text/plain": [
              "'https://jovian.ai/arun-gansi/python-practice-assignment'"
            ]
          },
          "metadata": {
            "tags": []
          },
          "execution_count": 5
        }
      ]
    },
    {
      "cell_type": "markdown",
      "metadata": {
        "id": "HX68cK_WE9SJ"
      },
      "source": [
        "You'll be asked to provide an API Key, to securely upload the notebook to your Jovian.ml account. You can get the API key from your Jovian.ml profile page after logging in / signing up. See the docs for details: https://jovian.ml/docs/user-guide/upload.html . The privacy of your assignment notebook is set to *Secret*, so that you can the evlauators can access it, but it will not shown on your public profile to other users."
      ]
    },
    {
      "cell_type": "markdown",
      "metadata": {
        "id": "UH-OF3CtE9SK"
      },
      "source": [
        "## Problem 1 - Variables and Data Types\n",
        "\n",
        "**Q1: Assign your name to the variable `name`.**"
      ]
    },
    {
      "cell_type": "code",
      "metadata": {
        "id": "nx-BWQW6E9SK"
      },
      "source": [
        "name = 'Arunachalam Ganesan' "
      ],
      "execution_count": null,
      "outputs": []
    },
    {
      "cell_type": "markdown",
      "metadata": {
        "id": "OPe34zGLE9SL"
      },
      "source": [
        "**Q2: Assign your age (real or fake) to the variable `age`.**"
      ]
    },
    {
      "cell_type": "code",
      "metadata": {
        "id": "HaGglEBkE9SL"
      },
      "source": [
        "age = 48"
      ],
      "execution_count": null,
      "outputs": []
    },
    {
      "cell_type": "markdown",
      "metadata": {
        "id": "fEmNP9V3E9SL"
      },
      "source": [
        "**Q3: Assign a boolean value to the variable `has_android_phone`.**"
      ]
    },
    {
      "cell_type": "code",
      "metadata": {
        "id": "2yQjobibE9SL"
      },
      "source": [
        "has_android_phone = True"
      ],
      "execution_count": null,
      "outputs": []
    },
    {
      "cell_type": "markdown",
      "metadata": {
        "id": "UMBI3DK_E9SM"
      },
      "source": [
        "You can check the values of these variables by running the next cell."
      ]
    },
    {
      "cell_type": "code",
      "metadata": {
        "colab": {
          "base_uri": "https://localhost:8080/"
        },
        "id": "Hpvu0pHnE9SM",
        "outputId": "237f52fd-6154-4de2-999d-5b25da15d000"
      },
      "source": [
        "name, age, has_android_phone"
      ],
      "execution_count": null,
      "outputs": [
        {
          "output_type": "execute_result",
          "data": {
            "text/plain": [
              "('Arunachalam Ganesan', 48, True)"
            ]
          },
          "metadata": {
            "tags": []
          },
          "execution_count": 9
        }
      ]
    },
    {
      "cell_type": "markdown",
      "metadata": {
        "id": "X11-8TF2E9SM"
      },
      "source": [
        "**Q4: Create a dictionary `person` with keys `\"Name\"`, `\"Age\"`, `\"HasAndroidPhone\"` and values using the variables defined above.**"
      ]
    },
    {
      "cell_type": "code",
      "metadata": {
        "id": "d5hHL_vlE9SM"
      },
      "source": [
        "person = {\"Name\": name,\n",
        "          \"Age\": age,\n",
        "          \"HasAndroidPhone\": has_android_phone}"
      ],
      "execution_count": null,
      "outputs": []
    },
    {
      "cell_type": "markdown",
      "metadata": {
        "id": "Tq6x8bo6E9SM"
      },
      "source": [
        "Let's use the `person` dictionary to print a nice message."
      ]
    },
    {
      "cell_type": "code",
      "metadata": {
        "colab": {
          "base_uri": "https://localhost:8080/"
        },
        "id": "_6QnQN48E9SN",
        "outputId": "4e795e71-1463-4523-bee5-b04ba76f563a"
      },
      "source": [
        "print(\"{} is aged {}, and owns an {}.\".format(\n",
        "    person[\"Name\"], \n",
        "    person[\"Age\"], \n",
        "    \"Android phone\" if person[\"HasAndroidPhone\"] else \"iPhone\"\n",
        "))"
      ],
      "execution_count": null,
      "outputs": [
        {
          "output_type": "stream",
          "text": [
            "Arunachalam Ganesan is aged 48, and owns an Android phone.\n"
          ],
          "name": "stdout"
        }
      ]
    },
    {
      "cell_type": "markdown",
      "metadata": {
        "id": "7GX2C3IpE9SN"
      },
      "source": [
        "**Q4b (Optional): Use a `for` loop to display the `type` of each value stored against each key in `person`.**\n",
        "\n",
        "Here's the expected output for the key `\"Name\"`: \n",
        "\n",
        "```\n",
        "The key \"Name\" has the value \"Derek\" of the type \"<class 'str'>\"\n",
        "```"
      ]
    },
    {
      "cell_type": "code",
      "metadata": {
        "colab": {
          "base_uri": "https://localhost:8080/"
        },
        "id": "8dUQlgodE9SO",
        "outputId": "f8794112-5e9b-4e44-83d1-033711da9ea3"
      },
      "source": [
        "# this is optional\n",
        "for x in person.values():\n",
        "  print(type(x))"
      ],
      "execution_count": null,
      "outputs": [
        {
          "output_type": "stream",
          "text": [
            "<class 'str'>\n",
            "<class 'int'>\n",
            "<class 'bool'>\n"
          ],
          "name": "stdout"
        }
      ]
    },
    {
      "cell_type": "markdown",
      "metadata": {
        "id": "ESy8ZTgFE9SP"
      },
      "source": [
        "Now that you've solved one problem, it would be a good idea to record a snapshot of your notebook."
      ]
    },
    {
      "cell_type": "code",
      "metadata": {
        "colab": {
          "base_uri": "https://localhost:8080/",
          "height": 86
        },
        "id": "LCYeRozcE9SP",
        "outputId": "ee914fff-be59-463a-8ba4-c024671f7e41"
      },
      "source": [
        "jovian.commit(project=project_name,environment=None)"
      ],
      "execution_count": null,
      "outputs": [
        {
          "output_type": "stream",
          "text": [
            "[jovian] Detected Colab notebook...\u001b[0m\n",
            "[jovian] Uploading colab notebook to Jovian...\u001b[0m\n",
            "Committed successfully! https://jovian.ai/arun-gansi/python-practice-assignment\n"
          ],
          "name": "stdout"
        },
        {
          "output_type": "execute_result",
          "data": {
            "application/vnd.google.colaboratory.intrinsic+json": {
              "type": "string"
            },
            "text/plain": [
              "'https://jovian.ai/arun-gansi/python-practice-assignment'"
            ]
          },
          "metadata": {
            "tags": []
          },
          "execution_count": 13
        }
      ]
    },
    {
      "cell_type": "markdown",
      "metadata": {
        "id": "BaNMw0lcE9SP"
      },
      "source": [
        "## Problem 2 - Working with Lists\n",
        "\n",
        "**Q5: Create a list containing the following 3 elements:**\n",
        "\n",
        "* your favorite color\n",
        "* the number of pets you have\n",
        "* a boolean value describing whether you have previous programming experience\n"
      ]
    },
    {
      "cell_type": "code",
      "metadata": {
        "id": "g7N32deqE9SQ"
      },
      "source": [
        "my_list = ['Green',0,True]"
      ],
      "execution_count": null,
      "outputs": []
    },
    {
      "cell_type": "markdown",
      "metadata": {
        "id": "r1lxLJGDE9SQ"
      },
      "source": [
        "Let's see what the list looks like:"
      ]
    },
    {
      "cell_type": "code",
      "metadata": {
        "colab": {
          "base_uri": "https://localhost:8080/"
        },
        "id": "iz96sxnbE9SR",
        "outputId": "85ed60fa-1097-446d-807f-000fccbedd71"
      },
      "source": [
        "my_list"
      ],
      "execution_count": null,
      "outputs": [
        {
          "output_type": "execute_result",
          "data": {
            "text/plain": [
              "['Green', 0, True]"
            ]
          },
          "metadata": {
            "tags": []
          },
          "execution_count": 17
        }
      ]
    },
    {
      "cell_type": "markdown",
      "metadata": {
        "id": "0U_C2p1mE9SR"
      },
      "source": [
        "**Q6: Complete the following `print` and `if` statements by accessing the appropriate elements from `my_list`.**\n",
        "\n",
        "*Hint*: Use the list indexing notation `[]`."
      ]
    },
    {
      "cell_type": "code",
      "metadata": {
        "colab": {
          "base_uri": "https://localhost:8080/"
        },
        "id": "0oS7Fn8jE9SR",
        "outputId": "2f6acbd3-218b-40cf-9d09-e2ae9abaa497"
      },
      "source": [
        "print('My favorite color is', my_list[0])"
      ],
      "execution_count": null,
      "outputs": [
        {
          "output_type": "stream",
          "text": [
            "My favorite color is Green\n"
          ],
          "name": "stdout"
        }
      ]
    },
    {
      "cell_type": "code",
      "metadata": {
        "colab": {
          "base_uri": "https://localhost:8080/"
        },
        "id": "9b3g25g4E9SR",
        "outputId": "3b45c8f1-235d-4245-a834-6a3f28923ffd"
      },
      "source": [
        "print('I have {} pet(s).'.format(my_list[1]))"
      ],
      "execution_count": null,
      "outputs": [
        {
          "output_type": "stream",
          "text": [
            "I have 0 pet(s).\n"
          ],
          "name": "stdout"
        }
      ]
    },
    {
      "cell_type": "code",
      "metadata": {
        "colab": {
          "base_uri": "https://localhost:8080/"
        },
        "id": "HKISrsqmE9SS",
        "outputId": "6e5f5bd4-1dfb-4a3d-9ab4-107222f1330e"
      },
      "source": [
        "if my_list[2]:\n",
        "    print(\"I have previous programming experience\")\n",
        "else:\n",
        "    print(\"I do not have previous programming experience\")"
      ],
      "execution_count": null,
      "outputs": [
        {
          "output_type": "stream",
          "text": [
            "I have previous programming experience\n"
          ],
          "name": "stdout"
        }
      ]
    },
    {
      "cell_type": "markdown",
      "metadata": {
        "id": "fadW1jPVE9SS"
      },
      "source": [
        "**Q7: Add your favorite single digit number to the end of the list using the appropriate list method.**"
      ]
    },
    {
      "cell_type": "code",
      "metadata": {
        "id": "ZN2bmxLvE9SS"
      },
      "source": [
        "my_list.append(7)"
      ],
      "execution_count": null,
      "outputs": []
    },
    {
      "cell_type": "markdown",
      "metadata": {
        "id": "TNcO-8IBE9SS"
      },
      "source": [
        "Let's see if the number shows up in the list."
      ]
    },
    {
      "cell_type": "code",
      "metadata": {
        "colab": {
          "base_uri": "https://localhost:8080/"
        },
        "id": "mxqTcUnAE9SS",
        "outputId": "1b5e8d54-170c-4a12-a8c9-c3621e6913b8"
      },
      "source": [
        "my_list"
      ],
      "execution_count": null,
      "outputs": [
        {
          "output_type": "execute_result",
          "data": {
            "text/plain": [
              "['Green', 0, True, 7]"
            ]
          },
          "metadata": {
            "tags": []
          },
          "execution_count": 30
        }
      ]
    },
    {
      "cell_type": "markdown",
      "metadata": {
        "id": "JgV5pjp6E9ST"
      },
      "source": [
        "**Q8: Remove the first element of the list, using the appropriate list method.**\n",
        "\n",
        "*Hint*: Check out methods of list here: https://www.w3schools.com/python/python_ref_list.asp"
      ]
    },
    {
      "cell_type": "code",
      "metadata": {
        "colab": {
          "base_uri": "https://localhost:8080/",
          "height": 35
        },
        "id": "FDy3KFM-E9ST",
        "outputId": "1f337126-ae0a-4ddc-eed0-e413c1553c3b"
      },
      "source": [
        "my_list.pop(0)"
      ],
      "execution_count": null,
      "outputs": [
        {
          "output_type": "execute_result",
          "data": {
            "application/vnd.google.colaboratory.intrinsic+json": {
              "type": "string"
            },
            "text/plain": [
              "'Green'"
            ]
          },
          "metadata": {
            "tags": []
          },
          "execution_count": 31
        }
      ]
    },
    {
      "cell_type": "code",
      "metadata": {
        "colab": {
          "base_uri": "https://localhost:8080/"
        },
        "id": "57Dmx7Q-E9ST",
        "outputId": "35aae2c7-6af8-487b-8cee-33044e3825ea"
      },
      "source": [
        "my_list"
      ],
      "execution_count": null,
      "outputs": [
        {
          "output_type": "execute_result",
          "data": {
            "text/plain": [
              "[0, True, 7]"
            ]
          },
          "metadata": {
            "tags": []
          },
          "execution_count": 32
        }
      ]
    },
    {
      "cell_type": "markdown",
      "metadata": {
        "id": "QJgHILfNE9ST"
      },
      "source": [
        "**Q9: Complete the `print` statement below to display the number of elements in `my_list`.**"
      ]
    },
    {
      "cell_type": "code",
      "metadata": {
        "colab": {
          "base_uri": "https://localhost:8080/"
        },
        "id": "dIwWhqphE9ST",
        "outputId": "7815f8b2-bb3f-464b-cd88-b652e2118dab"
      },
      "source": [
        "print(\"The list has {} elements.\".format(len(my_list)))"
      ],
      "execution_count": null,
      "outputs": [
        {
          "output_type": "stream",
          "text": [
            "The list has 3 elements.\n"
          ],
          "name": "stdout"
        }
      ]
    },
    {
      "cell_type": "markdown",
      "metadata": {
        "id": "BVDFRT5ZE9ST"
      },
      "source": [
        "Well done, you're making good progress! Save your work before continuing"
      ]
    },
    {
      "cell_type": "code",
      "metadata": {
        "colab": {
          "base_uri": "https://localhost:8080/",
          "height": 86
        },
        "id": "1a_6U5h-E9SU",
        "outputId": "b19bb161-1650-40d5-895b-05c26d03360d"
      },
      "source": [
        "jovian.commit(project=project_name,environment=None)"
      ],
      "execution_count": null,
      "outputs": [
        {
          "output_type": "stream",
          "text": [
            "[jovian] Detected Colab notebook...\u001b[0m\n",
            "[jovian] Uploading colab notebook to Jovian...\u001b[0m\n",
            "Committed successfully! https://jovian.ai/arun-gansi/python-practice-assignment\n"
          ],
          "name": "stdout"
        },
        {
          "output_type": "execute_result",
          "data": {
            "application/vnd.google.colaboratory.intrinsic+json": {
              "type": "string"
            },
            "text/plain": [
              "'https://jovian.ai/arun-gansi/python-practice-assignment'"
            ]
          },
          "metadata": {
            "tags": []
          },
          "execution_count": 34
        }
      ]
    },
    {
      "cell_type": "markdown",
      "metadata": {
        "id": "Sty12Q74E9SU"
      },
      "source": [
        "## Problem 3 - Conditions and loops\n",
        "\n",
        "**Q10: Calculate and display the sum of all the numbers divisible by 7 between 18 and 534 i.e. `21+28+35+...+525+532`**.\n",
        "\n",
        "*Hint*: One way to do this is to loop over a `range` using `for` and use an `if` statement inside it."
      ]
    },
    {
      "cell_type": "code",
      "metadata": {
        "id": "fGEWaz2zE9SU"
      },
      "source": [
        "# store the final answer in this variable\n",
        "sum_of_numbers = 0\n",
        "\n",
        "# perform the calculation here\n",
        "for n in range(18,535):\n",
        "  if not n % 7:\n",
        "    sum_of_numbers += n\n",
        "\n"
      ],
      "execution_count": null,
      "outputs": []
    },
    {
      "cell_type": "code",
      "metadata": {
        "colab": {
          "base_uri": "https://localhost:8080/"
        },
        "id": "6rvtNf21E9SU",
        "outputId": "1befbf36-b1f0-4576-e069-f2988794668b"
      },
      "source": [
        "print('The sum of all the numbers divisible by 7 between 18 and 534 is', sum_of_numbers)"
      ],
      "execution_count": null,
      "outputs": [
        {
          "output_type": "stream",
          "text": [
            "The sum of all the numbers divisible by 7 between 18 and 534 is 20461\n"
          ],
          "name": "stdout"
        }
      ]
    },
    {
      "cell_type": "markdown",
      "metadata": {
        "id": "ZyLbGe1QE9SU"
      },
      "source": [
        "If you are not able to figure out the solution to this problem, you can ask for hints on the community forum: https://jovian.ml/forum/t/assignment-1-python-practice/7761 . Remember to save your work before moving forward."
      ]
    },
    {
      "cell_type": "code",
      "metadata": {
        "colab": {
          "base_uri": "https://localhost:8080/",
          "height": 86
        },
        "id": "oXCjNJjoE9SV",
        "outputId": "4c444b17-bc04-4251-a0e2-208f6aee9633"
      },
      "source": [
        "jovian.commit(project=project_name,environment=None)"
      ],
      "execution_count": null,
      "outputs": [
        {
          "output_type": "stream",
          "text": [
            "[jovian] Detected Colab notebook...\u001b[0m\n",
            "[jovian] Uploading colab notebook to Jovian...\u001b[0m\n",
            "Committed successfully! https://jovian.ai/arun-gansi/python-practice-assignment\n"
          ],
          "name": "stdout"
        },
        {
          "output_type": "execute_result",
          "data": {
            "application/vnd.google.colaboratory.intrinsic+json": {
              "type": "string"
            },
            "text/plain": [
              "'https://jovian.ai/arun-gansi/python-practice-assignment'"
            ]
          },
          "metadata": {
            "tags": []
          },
          "execution_count": 42
        }
      ]
    },
    {
      "cell_type": "markdown",
      "metadata": {
        "id": "GA0lNyQnE9SV"
      },
      "source": [
        "## Problem 4 - Flying to the Bahamas\n",
        "\n",
        "**Q11: A travel company wants to fly a plane to the Bahamas. Flying the plane costs 5000 dollars. So far, 29 people have signed up for the trip. If the company charges 200 dollars per ticket, what is the profit made by the company?**\n",
        "\n",
        "Fill in values or arithmetic expressions for the variables below."
      ]
    },
    {
      "cell_type": "code",
      "metadata": {
        "id": "DNtySPT3E9SW"
      },
      "source": [
        "cost_of_flying_plane = 5000"
      ],
      "execution_count": null,
      "outputs": []
    },
    {
      "cell_type": "code",
      "metadata": {
        "id": "652wwkN7E9SW"
      },
      "source": [
        "number_of_passengers = 29"
      ],
      "execution_count": null,
      "outputs": []
    },
    {
      "cell_type": "code",
      "metadata": {
        "id": "31-eXeZNE9SW"
      },
      "source": [
        "price_of_ticket = 200"
      ],
      "execution_count": null,
      "outputs": []
    },
    {
      "cell_type": "code",
      "metadata": {
        "id": "RuZx5kKvE9SX"
      },
      "source": [
        "profit = number_of_passengers * price_of_ticket - cost_of_flying_plane"
      ],
      "execution_count": null,
      "outputs": []
    },
    {
      "cell_type": "code",
      "metadata": {
        "colab": {
          "base_uri": "https://localhost:8080/"
        },
        "id": "O3AEkW8jE9SX",
        "outputId": "db38b548-2da9-4600-a834-c9cf777c9de7"
      },
      "source": [
        "print('The company makes of a profit of {} dollars'.format(profit))"
      ],
      "execution_count": null,
      "outputs": [
        {
          "output_type": "stream",
          "text": [
            "The company makes of a profit of 800 dollars\n"
          ],
          "name": "stdout"
        }
      ]
    },
    {
      "cell_type": "markdown",
      "metadata": {
        "id": "ThTI_fIDE9SX"
      },
      "source": [
        "**Q11b (Optional): Out of the 29 people who took the flight, only 12 buy tickets to return from the Bahamas on the same plane. If the flying the plane back also costs 5000 dollars, and does the company make an overall profit or loss? The company charges the same fee of 200 dollars per ticket for the return flight.**\n",
        "\n",
        "Use an `if` statement to display the result."
      ]
    },
    {
      "cell_type": "code",
      "metadata": {
        "colab": {
          "base_uri": "https://localhost:8080/"
        },
        "id": "-z1CYJlJE9SX",
        "outputId": "0ce684c5-f457-45c5-8b4f-1fbb205e4f5e"
      },
      "source": [
        "# this is optional\n",
        "profit = (29+12)*200 - 2*5000 \n",
        "if profit < 0:\n",
        "  print(\"the company is making loss\")\n",
        "elif profit > 0:\n",
        "  print(\"the company is making gain\")\n",
        "else:\n",
        "  print(\"the company is making No loss or No gain\")"
      ],
      "execution_count": null,
      "outputs": [
        {
          "output_type": "stream",
          "text": [
            "the company is making loss\n"
          ],
          "name": "stdout"
        }
      ]
    },
    {
      "cell_type": "code",
      "metadata": {
        "colab": {
          "base_uri": "https://localhost:8080/"
        },
        "id": "cT5EWsN3E9SY",
        "outputId": "df483c1b-da69-4d49-d2f8-966b200450a0"
      },
      "source": [
        "# this is optional\n",
        "if profit > 0:\n",
        "    print(\"The company makes an overall profit of {} dollars\".format(profit))\n",
        "else:\n",
        "    print(\"The company makes an overall loss of {} dollars\".format(profit))"
      ],
      "execution_count": null,
      "outputs": [
        {
          "output_type": "stream",
          "text": [
            "The company makes an overall loss of -1800 dollars\n"
          ],
          "name": "stdout"
        }
      ]
    },
    {
      "cell_type": "markdown",
      "metadata": {
        "id": "aEZHFU8sE9SY"
      },
      "source": [
        "Great work so far! Want to take a break? Remember to save and upload your notebook to record your progress."
      ]
    },
    {
      "cell_type": "code",
      "metadata": {
        "colab": {
          "base_uri": "https://localhost:8080/",
          "height": 86
        },
        "id": "Ga7-oZbpE9SY",
        "outputId": "7f8e183c-3716-4e55-dd45-f7aeb0e17134"
      },
      "source": [
        "jovian.commit(project=project_name,environment=None)"
      ],
      "execution_count": null,
      "outputs": [
        {
          "output_type": "stream",
          "text": [
            "[jovian] Detected Colab notebook...\u001b[0m\n",
            "[jovian] Uploading colab notebook to Jovian...\u001b[0m\n",
            "Committed successfully! https://jovian.ai/arun-gansi/python-practice-assignment\n"
          ],
          "name": "stdout"
        },
        {
          "output_type": "execute_result",
          "data": {
            "application/vnd.google.colaboratory.intrinsic+json": {
              "type": "string"
            },
            "text/plain": [
              "'https://jovian.ai/arun-gansi/python-practice-assignment'"
            ]
          },
          "metadata": {
            "tags": []
          },
          "execution_count": 53
        }
      ]
    },
    {
      "cell_type": "markdown",
      "metadata": {
        "id": "wCC3J1hUE9SY"
      },
      "source": [
        "## Problem 5 - Twitter Sentiment Analysis\n",
        "\n",
        "Are your ready to perform some *Data Analysis with Python*? In this problem, we'll analyze some fictional tweets and find out whether the overall sentiment of Twitter users is happy or sad. This is a simplified version of an important real world problem called *sentiment analysis*.\n",
        "\n",
        "Before we begin, we need a list of tweets to analyze. We're picking a small number of tweets here, but the exact same analysis can also be done for thousands, or even millions of tweets. The collection of data that we perform analysis on is often called a *dataset*."
      ]
    },
    {
      "cell_type": "code",
      "metadata": {
        "id": "FixT2nIsE9SY"
      },
      "source": [
        "tweets = [\n",
        "    \"Wow, what a great day today!! #sunshine\",\n",
        "    \"I feel sad about the things going on around us. #covid19\",\n",
        "    \"I'm really excited to learn Python with @JovianML #zerotopandas\",\n",
        "    \"This is a really nice song. #linkinpark\",\n",
        "    \"The python programming language is useful for data science\",\n",
        "    \"Why do bad things happen to me?\",\n",
        "    \"Apple announces the release of the new iPhone 12. Fans are excited.\",\n",
        "    \"Spent my day with family!! #happy\",\n",
        "    \"Check out my blog post on common string operations in Python. #zerotopandas\",\n",
        "    \"Freecodecamp has great coding tutorials. #skillup\"\n",
        "]"
      ],
      "execution_count": null,
      "outputs": []
    },
    {
      "cell_type": "markdown",
      "metadata": {
        "id": "g-vfTREsE9SZ"
      },
      "source": [
        "Let's begin by answering a very simple but important question about our dataset.\n",
        "\n",
        "**Q12: How many tweets does the dataset contain?**"
      ]
    },
    {
      "cell_type": "code",
      "metadata": {
        "id": "ZJlERNK0E9Sb"
      },
      "source": [
        "number_of_tweets = 10"
      ],
      "execution_count": null,
      "outputs": []
    },
    {
      "cell_type": "markdown",
      "metadata": {
        "id": "gc-YUAqrE9Sd"
      },
      "source": [
        "Let's create two lists of words: `happy_words` and `sad_words`. We will use these to check if a tweet is happy or sad."
      ]
    },
    {
      "cell_type": "code",
      "metadata": {
        "id": "-qAeNqWVE9Sd"
      },
      "source": [
        "happy_words = ['great', 'excited', 'happy', 'nice', 'wonderful', 'amazing', 'good', 'best']"
      ],
      "execution_count": null,
      "outputs": []
    },
    {
      "cell_type": "code",
      "metadata": {
        "id": "veEnabzEE9Sd"
      },
      "source": [
        "sad_words = ['sad', 'bad', 'tragic', 'unhappy', 'worst']"
      ],
      "execution_count": null,
      "outputs": []
    },
    {
      "cell_type": "markdown",
      "metadata": {
        "id": "jBiKKV-NE9Se"
      },
      "source": [
        "To identify whether a tweet is happy, we can simply check if contains any of the words from `happy_words`. Here's an example:"
      ]
    },
    {
      "cell_type": "code",
      "metadata": {
        "id": "XTVygrfTE9Se"
      },
      "source": [
        "sample_tweet = tweets[0]"
      ],
      "execution_count": null,
      "outputs": []
    },
    {
      "cell_type": "code",
      "metadata": {
        "colab": {
          "base_uri": "https://localhost:8080/",
          "height": 35
        },
        "id": "L4LVGjo7E9Sf",
        "outputId": "1f08ce8f-3ecc-41b6-86bc-edc60348f93f"
      },
      "source": [
        "sample_tweet"
      ],
      "execution_count": null,
      "outputs": [
        {
          "output_type": "execute_result",
          "data": {
            "application/vnd.google.colaboratory.intrinsic+json": {
              "type": "string"
            },
            "text/plain": [
              "'Wow, what a great day today!! #sunshine'"
            ]
          },
          "metadata": {
            "tags": []
          },
          "execution_count": 59
        }
      ]
    },
    {
      "cell_type": "code",
      "metadata": {
        "id": "wPq2ySTbE9Sg"
      },
      "source": [
        "is_tweet_happy = False\n",
        "\n",
        "# Get a word from happy_words\n",
        "for word in happy_words:\n",
        "    # Check if the tweet contains the word\n",
        "    if word in sample_tweet:\n",
        "        # Word found! Mark the tweet as happy\n",
        "        is_tweet_happy = True"
      ],
      "execution_count": null,
      "outputs": []
    },
    {
      "cell_type": "markdown",
      "metadata": {
        "id": "8F2NRlA3E9Sg"
      },
      "source": [
        "Do you understand what we're doing above? \n",
        "\n",
        "> For each word in the list of happy words, we check if is a part of the selected tweet. If the word is indded a part of the tweet, we set the variable `is_tweet_happy` to `True`. "
      ]
    },
    {
      "cell_type": "code",
      "metadata": {
        "colab": {
          "base_uri": "https://localhost:8080/"
        },
        "id": "4am_oWX-E9Sh",
        "outputId": "91ca6e90-186b-4c7d-a0d4-c7be7d53c39a"
      },
      "source": [
        "is_tweet_happy"
      ],
      "execution_count": null,
      "outputs": [
        {
          "output_type": "execute_result",
          "data": {
            "text/plain": [
              "True"
            ]
          },
          "metadata": {
            "tags": []
          },
          "execution_count": 61
        }
      ]
    },
    {
      "cell_type": "markdown",
      "metadata": {
        "id": "mX1rPK9CE9Sh"
      },
      "source": [
        "**Q13: Determine the number of tweets in the dataset that can be classified as happy.**\n",
        "\n",
        "*Hint*: You'll need to use a loop inside another loop to do this. Use the code from the example shown above."
      ]
    },
    {
      "cell_type": "code",
      "metadata": {
        "id": "ShMtZ2WZE9Si"
      },
      "source": [
        "# store the final answer in this variable\n",
        "number_of_happy_tweets = 0\n",
        "\n",
        "# perform the calculations here\n",
        "for tweet in tweets:\n",
        "  for word in tweet.split(' '):\n",
        "    if word in happy_words:\n",
        "      number_of_happy_tweets += 1\n",
        "      break"
      ],
      "execution_count": null,
      "outputs": []
    },
    {
      "cell_type": "code",
      "metadata": {
        "colab": {
          "base_uri": "https://localhost:8080/"
        },
        "id": "SQhWXdHlE9Si",
        "outputId": "728dc064-a7f2-4a9e-f868-635bb3783e03"
      },
      "source": [
        "print(\"Number of happy tweets:\", number_of_happy_tweets)"
      ],
      "execution_count": null,
      "outputs": [
        {
          "output_type": "stream",
          "text": [
            "Number of happy tweets: 4\n"
          ],
          "name": "stdout"
        }
      ]
    },
    {
      "cell_type": "markdown",
      "metadata": {
        "id": "ziyprt0nE9Si"
      },
      "source": [
        "If you are not able to figure out the solution to this problem, you can ask for hints on the community forum: https://jovian.ml/forum/t/assignment-1-python-practice/7761 . Also try adding `print` statements inside your loops to inspect variables and make sure your logic is correct."
      ]
    },
    {
      "cell_type": "markdown",
      "metadata": {
        "id": "8tmPGn1ME9Sj"
      },
      "source": [
        "**Q14: What fraction of the total number of tweets are happy?**\n",
        "\n",
        "For example, if 2 out of 10 tweets are happy, then the answer is `2/10` i.e. `0.2`."
      ]
    },
    {
      "cell_type": "code",
      "metadata": {
        "id": "b5-5UzewE9Sj"
      },
      "source": [
        "happy_fraction = number_of_happy_tweets / len(tweets)"
      ],
      "execution_count": null,
      "outputs": []
    },
    {
      "cell_type": "code",
      "metadata": {
        "colab": {
          "base_uri": "https://localhost:8080/"
        },
        "id": "acKMOBBEE9Sj",
        "outputId": "55cf3126-11a9-4a13-d216-ab285950c59d"
      },
      "source": [
        "print(\"The fraction of happy tweets is:\", happy_fraction)"
      ],
      "execution_count": null,
      "outputs": [
        {
          "output_type": "stream",
          "text": [
            "The fraction of happy tweets is: 0.4\n"
          ],
          "name": "stdout"
        }
      ]
    },
    {
      "cell_type": "markdown",
      "metadata": {
        "id": "uFx8GRAiE9Sk"
      },
      "source": [
        "To identify whether a tweet is sad, we can simply check if contains any of the words from `sad_words`.\n",
        "\n",
        "**Q15: Determine the number of tweets in the dataset that can be classified as sad.**"
      ]
    },
    {
      "cell_type": "code",
      "metadata": {
        "id": "qhNHsiblE9Sk"
      },
      "source": [
        "# store the final answer in this variable\n",
        "number_of_sad_tweets = 0\n",
        "\n",
        "# perform the calculations here\n",
        "for tweet in tweets:\n",
        "  for word in tweet.split(' '):\n",
        "    if word in sad_words:\n",
        "      number_of_sad_tweets += 1\n",
        "      break"
      ],
      "execution_count": null,
      "outputs": []
    },
    {
      "cell_type": "code",
      "metadata": {
        "colab": {
          "base_uri": "https://localhost:8080/"
        },
        "id": "bOoRO15OE9Sl",
        "outputId": "e4ede9db-3fcf-4976-b4b6-13fc2984bc23"
      },
      "source": [
        "print(\"Number of sad tweets:\", number_of_sad_tweets)"
      ],
      "execution_count": null,
      "outputs": [
        {
          "output_type": "stream",
          "text": [
            "Number of sad tweets: 2\n"
          ],
          "name": "stdout"
        }
      ]
    },
    {
      "cell_type": "markdown",
      "metadata": {
        "id": "N-aGxBrBE9Sl"
      },
      "source": [
        "**Q16: What fraction of the total number of tweets are sad?**"
      ]
    },
    {
      "cell_type": "code",
      "metadata": {
        "id": "cSi2sCmbE9Sm"
      },
      "source": [
        "sad_fraction = number_of_sad_tweets / len(tweets)"
      ],
      "execution_count": null,
      "outputs": []
    },
    {
      "cell_type": "code",
      "metadata": {
        "colab": {
          "base_uri": "https://localhost:8080/"
        },
        "id": "_VWA54lCE9Sm",
        "outputId": "b079770a-6cb2-447b-e80f-4111ee234e16"
      },
      "source": [
        "print(\"The fraction of sad tweets is:\", sad_fraction)"
      ],
      "execution_count": null,
      "outputs": [
        {
          "output_type": "stream",
          "text": [
            "The fraction of sad tweets is: 0.2\n"
          ],
          "name": "stdout"
        }
      ]
    },
    {
      "cell_type": "markdown",
      "metadata": {
        "id": "4En2v5oqE9Sm"
      },
      "source": [
        "The rest of this problem is optional. Let's save your work before continuing."
      ]
    },
    {
      "cell_type": "code",
      "metadata": {
        "colab": {
          "base_uri": "https://localhost:8080/",
          "height": 86
        },
        "id": "zG9d074ZE9Sn",
        "outputId": "68287f3a-9d44-4d4a-b47e-4a255702a06b"
      },
      "source": [
        "jovian.commit(project=project_name,environment=None)"
      ],
      "execution_count": null,
      "outputs": [
        {
          "output_type": "stream",
          "text": [
            "[jovian] Detected Colab notebook...\u001b[0m\n",
            "[jovian] Uploading colab notebook to Jovian...\u001b[0m\n",
            "Committed successfully! https://jovian.ai/arun-gansi/python-practice-assignment\n"
          ],
          "name": "stdout"
        },
        {
          "output_type": "execute_result",
          "data": {
            "application/vnd.google.colaboratory.intrinsic+json": {
              "type": "string"
            },
            "text/plain": [
              "'https://jovian.ai/arun-gansi/python-practice-assignment'"
            ]
          },
          "metadata": {
            "tags": []
          },
          "execution_count": 77
        }
      ]
    },
    {
      "cell_type": "markdown",
      "metadata": {
        "id": "_sOxTDUCE9Sn"
      },
      "source": [
        "Great work, even with some basic analysis, we already know a lot about the sentiment of the tweets given to us. Let us now define a metric called \"sentiment score\", to summarize the overall sentiment of the tweets.\n",
        "\n",
        "**Q16b (Optional): Calculate the sentiment score, which is defined as the difference betweek the fraction of happy tweets and the fraction of sad tweets.**"
      ]
    },
    {
      "cell_type": "code",
      "metadata": {
        "id": "F3kD7pSqE9Sn"
      },
      "source": [
        "sentiment_score = happy_fraction - sad_fraction"
      ],
      "execution_count": null,
      "outputs": []
    },
    {
      "cell_type": "code",
      "metadata": {
        "colab": {
          "base_uri": "https://localhost:8080/"
        },
        "id": "6TUwfrsvE9Sn",
        "outputId": "96ce5996-2843-4307-d3c5-bc88fd8992cd"
      },
      "source": [
        "print(\"The sentiment score for the given tweets is\", sentiment_score)"
      ],
      "execution_count": null,
      "outputs": [
        {
          "output_type": "stream",
          "text": [
            "The sentiment score for the given tweets is 0.2\n"
          ],
          "name": "stdout"
        }
      ]
    },
    {
      "cell_type": "markdown",
      "metadata": {
        "id": "Ns2CMlmwE9Sn"
      },
      "source": [
        "In a real world scenario, we could calculate & record the sentiment score for all the tweets sent out every day. This information can be used to plot a graph and study the trends in the changing sentiment of the world. The following graph was creating using the Python data visualization library `matplotlib`, which we'll cover later in the course.\n",
        "\n",
        "<img src=\"https://i.imgur.com/6CCIwCb.png\" style=\"width:400px\">\n",
        "\n",
        "What does the sentiment score represent? Based on the value of the sentiment score, can you identify if the overall sentiment of the dataset is happy or sad?\n",
        "\n",
        "**Q16c (Optional): Display whether the overall sentiment of the given dataset of tweets is happy or sad, using the sentiment score.**"
      ]
    },
    {
      "cell_type": "code",
      "metadata": {
        "colab": {
          "base_uri": "https://localhost:8080/"
        },
        "id": "OGOelt-rE9So",
        "outputId": "7a3e3dc4-75a4-4957-ffca-66afd0c9a0a3"
      },
      "source": [
        "if sentiment_score > 0:\n",
        "    print(\"The overall sentiment is happy\")\n",
        "else:\n",
        "    print(\"The overall sentiment is sad\")"
      ],
      "execution_count": null,
      "outputs": [
        {
          "output_type": "stream",
          "text": [
            "The overall sentiment is happy\n"
          ],
          "name": "stdout"
        }
      ]
    },
    {
      "cell_type": "markdown",
      "metadata": {
        "id": "o6EyeEFiE9So"
      },
      "source": [
        "Finally, it's also important to track how many tweets are neutral i.e. neither happy nor sad. If a large fraction of tweets are marked neutral, maybe we need to improve our lists of happy and sad words. \n",
        "\n",
        "**Q16d (Optional): What is the fraction of tweets that are neutral i.e. neither happy nor sad.**"
      ]
    },
    {
      "cell_type": "code",
      "metadata": {
        "id": "N9ZSqUxME9So"
      },
      "source": [
        "# store the final answer in this variable\n",
        "number_of_neutral_tweets = 0\n",
        "\n",
        "# perform the calculation here\n",
        "number_of_neutral_tweets = len(tweets) - number_of_happy_tweets - number_of_sad_tweets"
      ],
      "execution_count": null,
      "outputs": []
    },
    {
      "cell_type": "code",
      "metadata": {
        "id": "HlaqHjx3E9So"
      },
      "source": [
        "neutral_fraction = number_of_neutral_tweets / len(tweets)"
      ],
      "execution_count": null,
      "outputs": []
    },
    {
      "cell_type": "code",
      "metadata": {
        "colab": {
          "base_uri": "https://localhost:8080/"
        },
        "id": "bcejuqlmE9So",
        "outputId": "fe1da8f9-0ddc-439f-f5a3-ac1bf6b568ef"
      },
      "source": [
        "print('The fraction of neutral tweets is', neutral_fraction)"
      ],
      "execution_count": null,
      "outputs": [
        {
          "output_type": "stream",
          "text": [
            "The fraction of neutral tweets is 0.4\n"
          ],
          "name": "stdout"
        }
      ]
    },
    {
      "cell_type": "markdown",
      "metadata": {
        "id": "XXabG2HZE9Sp"
      },
      "source": [
        "Ponder upon these questions and try some experiments to hone your skills further:\n",
        "\n",
        "* What are the limitations of our approach? When will it go wrong or give incorrect results?\n",
        "* How can we improve our approach to address the limitations?\n",
        "* What are some other questions you would like to ask, given a list of tweets?\n",
        "* Try collecting some real tweets from your Twitter timeline and repeat this analysis. Do the results make sense?\n",
        "\n",
        "**IMPORTANT NOTE**: If you want to try out these experiments, please create a new notebook using the \"New Notebook\" button on your Jovian.ml profile, to avoid making unintended changes to your assignment submission notebook."
      ]
    },
    {
      "cell_type": "markdown",
      "metadata": {
        "id": "7BMT03OvE9Sp"
      },
      "source": [
        "## Submission \n",
        "\n",
        "Congratulations on making it this far! You've reached the end of this assignment, and you just completed your first data analysis problem. It's time to record one final version of your notebook for submission.\n",
        "\n",
        "Make a submission here by filling the submission form: https://jovian.ml/learn/data-analysis-with-python-zero-to-pandas/assignment/assignment-1-python-basics-practice"
      ]
    },
    {
      "cell_type": "code",
      "metadata": {
        "scrolled": false,
        "colab": {
          "base_uri": "https://localhost:8080/",
          "height": 86
        },
        "id": "5u2x2nXjE9Sp",
        "outputId": "8c38d318-9d8d-4002-8251-e3a5788124f8"
      },
      "source": [
        "jovian.commit(project=project_name,environment=None)"
      ],
      "execution_count": null,
      "outputs": [
        {
          "output_type": "stream",
          "text": [
            "[jovian] Detected Colab notebook...\u001b[0m\n",
            "[jovian] Uploading colab notebook to Jovian...\u001b[0m\n",
            "Committed successfully! https://jovian.ai/arun-gansi/python-practice-assignment\n"
          ],
          "name": "stdout"
        },
        {
          "output_type": "execute_result",
          "data": {
            "application/vnd.google.colaboratory.intrinsic+json": {
              "type": "string"
            },
            "text/plain": [
              "'https://jovian.ai/arun-gansi/python-practice-assignment'"
            ]
          },
          "metadata": {
            "tags": []
          },
          "execution_count": 89
        }
      ]
    },
    {
      "cell_type": "code",
      "metadata": {
        "id": "WqKn7Ce5RZAE",
        "colab": {
          "base_uri": "https://localhost:8080/"
        },
        "outputId": "9d1c2229-1252-49d0-d13b-acc05e4cfd5b"
      },
      "source": [
        "jovian.submit(assignment=\"zero-to-pandas-a1\")"
      ],
      "execution_count": null,
      "outputs": [
        {
          "output_type": "stream",
          "text": [
            "[jovian] Detected Colab notebook...\u001b[0m\n",
            "[jovian] Uploading colab notebook to Jovian...\u001b[0m\n",
            "Committed successfully! https://jovian.ai/arun-gansi/python-practice-assignment\n",
            "[jovian] Submitting assignment..\u001b[0m\n",
            "[jovian] Verify your submission at https://jovian.ai/learn/data-analysis-with-python-zero-to-pandas/assignment/assignment-1-python-basics-practice\u001b[0m\n"
          ],
          "name": "stdout"
        }
      ]
    },
    {
      "cell_type": "code",
      "metadata": {
        "id": "pGGl3GIvR7Ft"
      },
      "source": [
        ""
      ],
      "execution_count": null,
      "outputs": []
    }
  ]
}